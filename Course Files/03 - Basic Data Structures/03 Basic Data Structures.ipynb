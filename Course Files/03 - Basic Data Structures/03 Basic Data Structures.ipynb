{
 "cells": [
  {
   "cell_type": "markdown",
   "metadata": {},
   "source": [
    "# 03 Basic Data Structures"
   ]
  },
  {
   "cell_type": "markdown",
   "metadata": {},
   "source": [
    "## Foreword"
   ]
  },
  {
   "cell_type": "markdown",
   "metadata": {},
   "source": [
    "Data structures are immensely useful in computing, as it allows for the easy storage and handling of data.\n",
    "\n",
    "Different data structures have their own uses. Some data structures are omnipresent in most applications, such as arrays. Some data structures are less commonly used, such as Union Find Disjoint Sets (UFDS) or a Binary (Fenwick) Tree.\n",
    "\n",
    "This section will cover simple data structures."
   ]
  },
  {
   "cell_type": "markdown",
   "metadata": {},
   "source": [
    "## Arrays"
   ]
  },
  {
   "cell_type": "markdown",
   "metadata": {},
   "source": [
    "(Static) arrays are clearly the most often used data structure in programming contests. Whenever there is a collection of sequential data to bse stored and later accessed using their *indices*, the static array is the most natural data structure to use. As the maximum input size is usually defined in the problem statement, the array size can be declared to be this maximum input size, with a small extra buffer (sentinel) for safety - to avoid the unncessary 'off by one' `RTE`. Typically, 1D, 2D, and 3D arrays are used in programming contests - problems rarely require arrays of higher dimension. \n",
    "\n",
    "Typical array operations include:\n",
    "- Accessing elements by their indices\n",
    "- Sorting the array\n",
    "- Perfoming a linear scan (linear search)\n",
    "- Performing a binary search on a sorted array"
   ]
  },
  {
   "cell_type": "markdown",
   "metadata": {},
   "source": [
    "It should be emphasised that Python **does not have static arrays**. Python only supports dynamic arrays, **but we can initialise a dyanmic array _like_ a static array** by doing the following:\n",
    "```python3\n",
    "myStaticArray = [None] * 1000  # 1000 is the size of the array\n",
    "```\n",
    "Of course you can replace `None` with some other value. However, in the end of the day, **this is still a dynamic array**."
   ]
  },
  {
   "cell_type": "markdown",
   "metadata": {},
   "source": [
    "## Dynamically Resizeable Array - The List (or Vector)"
   ]
  },
  {
   "cell_type": "markdown",
   "metadata": {},
   "source": [
    "This data structure is similar to that of static arrays, except that it handles resizing of the list natively. As mentioned, Python uses lists by default."
   ]
  },
  {
   "cell_type": "markdown",
   "metadata": {},
   "source": [
    "## Map (Python *Dictionary*)"
   ]
  },
  {
   "cell_type": "markdown",
   "metadata": {},
   "source": [
    "Another useful data type built into Python is the dictionary. Dictionaries are sometimes found in other languages as \u201cassociative memories\u201d or \u201cassociative arrays\u201d. Unlike sequences, which are indexed by a range of numbers, dictionaries are indexed by keys, which can be any immutable type; strings and numbers can always be keys. Tuples can be used as keys if they contain only strings, numbers, or tuples; if a tuple contains any mutable object either directly or indirectly, it cannot be used as a key. You can\u2019t use lists as keys, since lists can be modified in place using index assignments, slice assignments, or methods like `append()`."
   ]
  },
  {
   "cell_type": "markdown",
   "metadata": {},
   "source": [
    "It is best to think of a dictionary as a set of key-value pairs, with the requirement that the keys are unique (within one dictionary). A pair of braces creates an empty dictionary: `{}`. Placing a comma-separated list of key-value pairs within the braces adds initial key-value pairs to the dictionary; this is also the way dictionaries are written on output."
   ]
  },
  {
   "cell_type": "markdown",
   "metadata": {},
   "source": [
    "The main operations on a dictionary are storing a value with some key and extracting the value given the key. If you store using a key that is already in use, the old value associated with that key is forgotten. It is an error to extract a value using a non-existent key.\n",
    "\n",
    "Performing `list(d)` on a dictionary `d` returns a list of all the keys used in the dictionary, **in insertion order** (if you want it sorted, just use `sorted(d)` instead). To check whether a single key is in the dictionary, use the `in` keyword."
   ]
  },
  {
   "cell_type": "markdown",
   "metadata": {},
   "source": [
    "Here is a small example using a dictionary:"
   ]
  },
  {
   "cell_type": "code",
   "execution_count": null,
   "metadata": {},
   "outputs": [],
   "source": [
    "# Define the dictionary\n",
    "tel = {\"jack\": 4098, \"sape\": 4139}\n",
    "tel[\"guido\"] = 4127  # Add new key \"guido\" with value 4127 into `tel`\n",
    "print(tel)\n",
    "\n",
    "# Accessing values\n",
    "print(tel[\"jack\"])  # Get value associated with \"jack\"\n",
    "\n",
    "# Dictionary operations\n",
    "print(list(tel))\n",
    "print(sorted(tel))\n",
    "\n",
    "# Membership checking is O(1) time\n",
    "print(\"guido\" in tel)\n",
    "print(\"jack\" not in tel)"
   ]
  },
  {
   "cell_type": "markdown",
   "metadata": {},
   "source": [
    "## Sets"
   ]
  },
  {
   "cell_type": "markdown",
   "metadata": {},
   "source": [
    "Python also includes a data type for sets. A set is an unordered collection with no duplicate elements. Basic uses include membership testing and eliminating duplicate entries. Set objects also support mathematical operations like union, intersection and difference."
   ]
  },
  {
   "cell_type": "markdown",
   "metadata": {},
   "source": [
    "Curly braces or the `set()` function can be used to create sets. Note: to create an empty set you have to use `set()`, not `{}`; the latter creates an **empty dictionary**, a data structure that we discuss in the next section."
   ]
  },
  {
   "cell_type": "markdown",
   "metadata": {},
   "source": [
    "Here is a brief demonstration of the use of sets."
   ]
  },
  {
   "cell_type": "code",
   "execution_count": null,
   "metadata": {},
   "outputs": [],
   "source": [
    "basket = {\"apple\", \"orange\", \"apple\", \"pear\", \"orange\", \"banana\"}\n",
    "print(basket)  # Show that duplicates have been removed \n",
    "\n",
    "print(\"orange\" in basket)  # Fast membership testing (~O(1))\n",
    "print(\"crabgrass\" in basket)\n",
    "\n",
    "# Demonstrate set operations on unique letters from two words\n",
    "a = set(\"abracadabra\")\n",
    "b = set(\"alacazam\")\n",
    "\n",
    "print(a)  # Unique letters in `a`\n",
    "a.difference(b)  # Letters in `a` but not in `b`\n",
    "a.union(b)  # Letters in `a` or `b` or both\n",
    "a.intersection(b)  # Letters in both `a` and `b`"
   ]
  },
  {
   "cell_type": "markdown",
   "metadata": {},
   "source": [
    "One of the main advantages of sets is that it is able to filter duplicate elements quickly. A related advantage is the fast membership checking (~$O(1)$ time) which means that checking whether an element exists in a set is very fast, as compared to lists (which take $O(N)$ time)."
   ]
  },
  {
   "cell_type": "markdown",
   "metadata": {},
   "source": [
    "## Stack"
   ]
  },
  {
   "cell_type": "markdown",
   "metadata": {},
   "source": [
    "A stack is a data structure that supports the Last-In First-Out (LIFO) principle. Like a list, the size of a stack is updated constantly as data is added onto the stack. This data structure is often used as part of an algorithm, such as *prefix calculation* or *postfix calculation*."
   ]
  },
  {
   "cell_type": "markdown",
   "metadata": {},
   "source": [
    "The list methods make it very easy to use a list as a stack. To add an item to the top of the stack, use `append()`. To retrieve an item from the top of the stack, use `pop()`. For example:"
   ]
  },
  {
   "cell_type": "code",
   "execution_count": null,
   "metadata": {},
   "outputs": [],
   "source": [
    "stack = [3, 4, 5]  # What is on the stack. Last element is first to be removed\n",
    "\n",
    "stack.append(6)  # Add 6 to the END (i.e. top) of the stack\n",
    "stack.append(7)\n",
    "print(stack)\n",
    "\n",
    "currElem = stack.pop()  # Pop the LAST ELEMENT (i.e. top element) off the stack\n",
    "print(stack, currElem)\n",
    "\n",
    "stack.pop()\n",
    "stack.pop()\n",
    "print(stack)"
   ]
  },
  {
   "cell_type": "markdown",
   "metadata": {},
   "source": [
    "*Note: the correct terminology to say \"add item to the top of the stack\" is __push__, not append*."
   ]
  },
  {
   "cell_type": "markdown",
   "metadata": {},
   "source": [
    "A stack only permits $O(1)$ pushing (inserting/adding) and $O(1)$ popping (removal). It also supports peeking the top of the stack (which can be done by accessing index `0` of the stack list)."
   ]
  },
  {
   "cell_type": "markdown",
   "metadata": {},
   "source": [
    "## Queue"
   ]
  },
  {
   "cell_type": "markdown",
   "metadata": {},
   "source": [
    "Unlike a stack which is a LIFO data structure, a queue is a First-In First-Out (FIFO) data structure. Like a real-life queue, the queue data structure supports enqueuing (adding an element to the **back** of the queue to be served **last**) and dequeuing (*serving* the **first** element in the queue)."
   ]
  },
  {
   "cell_type": "markdown",
   "metadata": {},
   "source": [
    "Similar to stacks, queues can be implemented using lists in Python."
   ]
  },
  {
   "cell_type": "code",
   "execution_count": null,
   "metadata": {},
   "outputs": [],
   "source": [
    "queue = [1, 2, 3]  # First element gets processed first\n",
    "\n",
    "queue.append(4)  # Enqueue element at the back\n",
    "print(queue)\n",
    "\n",
    "currElem = queue.pop(0)  # Dequeue first element\n",
    "print(queue, currElem)\n",
    "\n",
    "queue.pop(0)\n",
    "queue.pop(0)\n",
    "print(queue)"
   ]
  },
  {
   "cell_type": "markdown",
   "metadata": {},
   "source": [
    "## Problems"
   ]
  },
  {
   "cell_type": "markdown",
   "metadata": {},
   "source": [
    "These basic data structures are fundamental to competitive programming, and are thus essential to master. Sample problems are provided."
   ]
  },
  {
   "cell_type": "markdown",
   "metadata": {},
   "source": [
    "1. CD\n",
    "2. Jolly Jumpers\n",
    "3. Keeping Duplicates\n",
    "4. Rails\n",
    "5. Spiral Tap\n",
    "6. Team Queue"
   ]
  }
 ],
 "metadata": {},
 "nbformat": 4,
 "nbformat_minor": 1
}