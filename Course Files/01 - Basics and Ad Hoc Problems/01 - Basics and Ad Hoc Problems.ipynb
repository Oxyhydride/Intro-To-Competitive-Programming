{
 "cells": [
  {
   "cell_type": "markdown",
   "metadata": {},
   "source": [
    "# 01 - Basics and Ad Hoc Problems"
   ]
  },
  {
   "cell_type": "markdown",
   "metadata": {},
   "source": [
    "## Receiving Input"
   ]
  },
  {
   "cell_type": "markdown",
   "metadata": {},
   "source": [
    "### Understanding the Input"
   ]
  },
  {
   "cell_type": "markdown",
   "metadata": {},
   "source": [
    "Most competitive programming tasks provide sample input like the folllowing:\n",
    "```\n",
    "5 4\n",
    "1 2 3 4 5\n",
    "```\n",
    "To understand what the question's input is, you need to **read the problem description** and the **input format**.\n",
    "\n",
    "Here's an example problem.\n",
    "> <u>**Simple Addition**</u><br><br>\n",
    "> Mary has a little lamb, and a little list of numbers. Can you help her add up the first $K$ numbers in her list?<br><br>\n",
    "> **Input Format**: The first line contains two integers, $N$ and $K$, where $N$ is the number of numbers in Mary's list. The next line of input contains $N$ space separated integers.<br><br>\n",
    ">**Constraint**: $1 \\leq K \\leq N \\leq 1000$<br><br>\n",
    ">**Output Format**: Output a single line containing a single integer. This is the sum of the first $K$ numbers in Mary's list.\n",
    "\n",
    "Assuming that the sample input shown at the start is the sample input for this problem, we now know what all those numbers mean.\n",
    "```\n",
    "5 4  <-- Values of N and K respectively\n",
    "1 2 3 4 5  <-- Numbers in the list\n",
    "```"
   ]
  },
  {
   "cell_type": "markdown",
   "metadata": {},
   "source": [
    "### Parsing the Input"
   ]
  },
  {
   "cell_type": "markdown",
   "metadata": {},
   "source": [
    "It should be emphasised that there are **no input prompts** for the input provided. This is common for competitive programming competitions - no input prompt is expected.\n",
    "\n",
    "Here's the code to parse the input for the problem above."
   ]
  },
  {
   "cell_type": "code",
   "execution_count": null,
   "metadata": {},
   "outputs": [],
   "source": [
    "N, K = [int(x) for x in input().split()]\n",
    "numbers = [int(x) for x in input().split()]"
   ]
  },
  {
   "cell_type": "markdown",
   "metadata": {},
   "source": [
    "Here's what the code is doing.\n",
    "- Line one reads in a string as input and splits according to spaces. Then, using list comprehension, the numbers `N` and `K` are assigned to as integers.\n",
    "- Line two is similar to line one, but instead of assigning the list to two integers, it is assigned to a single variable called `numbers`."
   ]
  },
  {
   "cell_type": "markdown",
   "metadata": {},
   "source": [
    "Now that we have the input, we can start solving the problem."
   ]
  },
  {
   "cell_type": "markdown",
   "metadata": {},
   "source": [
    "### Coming Up with a Solution"
   ]
  },
  {
   "cell_type": "markdown",
   "metadata": {},
   "source": [
    "The trickiest part of any competitive programming problem is coming up with the solution to the problem.\n",
    "\n",
    "However, luckily, the above problem's solution is easy to see.\n",
    "- Use list slicing to get the first `K` elements, and then sum them up using the `sum` function.\n",
    "\n",
    "This can be done in one line of code."
   ]
  },
  {
   "cell_type": "code",
   "execution_count": null,
   "metadata": {},
   "outputs": [],
   "source": [
    "answer = sum(numbers[:K])  # Sum first K numbers"
   ]
  },
  {
   "cell_type": "markdown",
   "metadata": {},
   "source": [
    "Now it is important to determine if your solution will be fast enough to pass the question's requirements. In this case, as $K \\leq N \\leq 1000$ is sufficiently small, our solution will work. However, *harder* question's require more **formal complexity analysis**. We'll cover this in a bit."
   ]
  },
  {
   "cell_type": "markdown",
   "metadata": {},
   "source": [
    "### Handling Output"
   ]
  },
  {
   "cell_type": "markdown",
   "metadata": {},
   "source": [
    "Similar to input, **only output what is required of you**. Do not add any unnecessary prompts to your output.\n",
    "\n",
    "For the above problem, the output code is simply:"
   ]
  },
  {
   "cell_type": "code",
   "execution_count": null,
   "metadata": {},
   "outputs": [],
   "source": [
    "print(answer)"
   ]
  },
  {
   "cell_type": "markdown",
   "metadata": {},
   "source": [
    "Congrats! You've just learnt the basics of competitive programming!"
   ]
  },
  {
   "cell_type": "markdown",
   "metadata": {},
   "source": [
    "### Exercise: FizzBuzz\n",
    "FizzBuzz is a group word game for children to teach them about division. Players take turns to count incrementally, replacing any number divisible by three with the word `fizz`, and any number divisible by five with the word `buzz`. Players also replace any number that is both divisible by 3 and 5 with `FizzBuzz`.\n",
    "\n",
    "Your task is to play the game of FizzBuzz from $S$ to $E$ inclusive. That is to say, the game of FizzBuzz starts with the number $S$ and ends when the number reaches $E$.\n",
    "\n",
    "#### Input Format\n",
    "The only line of input will contain $S$ and $E$ separated by a space.\n",
    "\n",
    "#### Output Format\n",
    "Output $E - S + 1$ lines of text, representing the outcomes of every number from $S$ to $E$ inclusive that are played with the FizzBuzz rules.\n",
    "\n",
    "#### Constraints\n",
    "$1 \\leq S < E \\leq 10^5$\n",
    "\n",
    "#### Sample Input\n",
    "```\n",
    "10 20\n",
    "```\n",
    "\n",
    "#### Sample Output\n",
    "```\n",
    "Buzz\n",
    "11\n",
    "Fizz\n",
    "13\n",
    "14\n",
    "FizzBuzz\n",
    "16\n",
    "17\n",
    "Fizz\n",
    "19\n",
    "BUZZ\n",
    "```\n",
    "\n",
    "### Explanation\n",
    "- The numbers `12` and `18` are only divisible by 3 so they are replaced by `Fizz`.\n",
    "- The numbers `10` and `20` are only divisible by 5 so they are replaced by `Buzz`.\n",
    "- `15` is the only number here that is divisible by both 3 and 5 so it is replaced by `FizzBuzz`."
   ]
  },
  {
   "cell_type": "code",
   "execution_count": null,
   "metadata": {},
   "outputs": [],
   "source": [
    "# Write your code here"
   ]
  },
  {
   "cell_type": "markdown",
   "metadata": {},
   "source": [
    "## Types of Grading"
   ]
  },
  {
   "cell_type": "markdown",
   "metadata": {},
   "source": [
    "In many contests you would see the following initialisms thrown about when you submit code to solve a problem.\n",
    "- `ACC`: Accepted (meaning your code got everything correct)\n",
    "- `WA`: Wrong answer (meaning the code failed some tests)\n",
    "- `RTE`: Runtime Error (meaning the code produces an error during execution)\n",
    "- `TLE`: Time Limit Exceeded (meaning the code took too long to solve the problem)\n",
    "- `ME`: Memory Error (meaning the code took too much memory to solve the problem)"
   ]
  },
  {
   "cell_type": "markdown",
   "metadata": {},
   "source": [
    "It is definitely undesirable to get a `WA` or `RTE`, but those are *relatively* easy to fix as compared to a `TLE` or `ME`.\n",
    "\n",
    "This is because `WA` and `RTE` are just signs that the code does not work as expected, and simple debugging would suffice to solve these issues. On the other hand, `TLE` and `ME` are indicative of issues in the algorithmic design."
   ]
  },
  {
   "cell_type": "markdown",
   "metadata": {},
   "source": [
    "## Algorithmic Analysis"
   ]
  },
  {
   "cell_type": "markdown",
   "metadata": {},
   "source": [
    "To understand how *good* and algorithm is, we need a standard for defining how fast or how memory efficient the algorithm is.\n",
    "\n",
    "We use the Big-$O$ notation to define the efficiency of such an algorithm."
   ]
  },
  {
   "cell_type": "markdown",
   "metadata": {},
   "source": [
    "### Big-$O$ Notation"
   ]
  },
  {
   "cell_type": "markdown",
   "metadata": {},
   "source": [
    "In computer science, Big O notation is used to classify algorithms according to how their run time or space requirements grow as the input size grows."
   ]
  },
  {
   "cell_type": "markdown",
   "metadata": {},
   "source": [
    "Most discussions of Big-O focus on the \u201cupper-bound\u201d time/space requirement of an algorithm, which is often termed the **worst-case**. We can think of the argument inside the $O$ in Big O as the number of operations or steps it takes to complete a problem of size $N$, or as the amount of space needed to store the data."
   ]
  },
  {
   "cell_type": "markdown",
   "metadata": {},
   "source": [
    "- **Time Complexity**. Big-O tells us how the time required to run the algorithm scales with the size of the input, $N$.\n",
    "- **Space Complexity**: Big-O tells is how the space/memory requirements to store all the data the algorithm needs scales with the size of the input, $N$."
   ]
  },
  {
   "cell_type": "markdown",
   "metadata": {},
   "source": [
    "For the rest of this section, we shall primarily focus our attention on **Time Complexity**, as it is the primary bottleneck when solving problems."
   ]
  },
  {
   "cell_type": "markdown",
   "metadata": {},
   "source": [
    "- $O(1)$: Constant time. Basically, running the algorithm for any input size $N$ will always take around the same time.\n",
    "- $O(N)$: Linear time. Running the algorithm with an input of size $N$ will take a time that is proportional to the value of $N$.\n",
    "    - Receiving input for a list of size $N$ has $O(N)$ time complexity\n",
    "    - Looping over an array of size $N$ is an example of an $O(N)$ algorithm.\n",
    "- $O(N^p)$: Polynomial time. Running the algorithm with an input of size $N$ will take a time that is proportional to the value of $N^p$. Common $p$ values are $p = 2$ (Quadratic time), $p = 3$ (Cubic time), and $p = 4$ (Quartic time).\n",
    "    - Having $p$ nested loops iterating over an array of size $N$ is an example of a $O(N^p)$ algorithm.\n",
    "- $O(\\log N)$: Logarithmic time. This time complexity is seen when the input (of size $N$) is repeatedly halved and reprocessed.\n",
    "    - Binary Search is an example of an $O(\\log N)$ algorithm.\n",
    "- $O(N \\log N)$: Linear logarithmic (or *linearithmic*) time.\n",
    "    - Merge Sort and the standard Python `sort` is an example of an $O(N \\log N)$ algorithm."
   ]
  },
  {
   "cell_type": "markdown",
   "metadata": {},
   "source": [
    "Memory complexity has a similar notation, where instead of describing time it describes the space required in memory.\n",
    "\n",
    "In general,\n",
    "- Storing a constant value (that is, not a list/array, set, dictionary or any other iterable) is $O(1)$\n",
    "- Storing a list of size $N$ has $O(N)$ space complexity\n",
    "- Storing a 2D list of size $N \\times N$ has $O(N^2)$ space complexity\n",
    "- Calling a function $p$ times takes up $O(p)$ memory (I.e. linear space complexity)"
   ]
  },
  {
   "cell_type": "markdown",
   "metadata": {},
   "source": [
    "In general, a good benchmark for how **time efficient** your code must be is that **a modern computer can run approximately $10^8$ operations in <u>in a few seconds</u>**. A rough gauge is to take the argument inside the Big-O notation (say the $N^2$ inside $O(N^2)$) and compute the worst case value (so if $N \\leq 10^5$ you would compute $(10^5)^2 = 10^{10}$)."
   ]
  },
  {
   "cell_type": "markdown",
   "metadata": {},
   "source": [
    "One more thing: **only the worse Big-O complexity matters**.\n",
    "- If your algorithm has both a $O(N)$ for loop and a $O(N^2)$ *nested* for loop, your algorithm has $O(N^2) + O(N) = O(N^2)$ time complexity.\n",
    "\n",
    "Here's a chart of the *rate of increase* of common Big-O functions.\n",
    "\n",
    "![Chart](https://cdn-media-1.freecodecamp.org/images/1*KfZYFUT2OKfjekJlCeYvuQ.jpeg)"
   ]
  },
  {
   "cell_type": "markdown",
   "metadata": {},
   "source": [
    "## Ad Hoc Problems"
   ]
  },
  {
   "cell_type": "markdown",
   "metadata": {},
   "source": [
    "In general, Ad Hoc problems are problems that do not nearly fit into any one of the other competitive programming categories:\n",
    "- Data structures\n",
    "- CP Paradigms\n",
    "- Graphs\n",
    "- Computational Mathematics\n",
    "- Big numbers"
   ]
  },
  {
   "cell_type": "markdown",
   "metadata": {},
   "source": [
    "It is *rare* to find a *pure* Ad Hoc question in any competitive programming competition, but they do appear. Normally, Ad Hoc problems are easy to medium in difficulty, so getting an `AC` on them should not be too hard and would definitely boost your score."
   ]
  },
  {
   "cell_type": "markdown",
   "metadata": {},
   "source": [
    "### Sample Problems"
   ]
  },
  {
   "cell_type": "markdown",
   "metadata": {},
   "source": [
    "Here are some Ad Hoc problems that are included in this package.\n",
    "1. Relational Operators\n",
    "2. Division of Nlogonia\n",
    "3. Event Planning\n",
    "4. Hangman Judge\n",
    "5. Bob's Blocks\n",
    "6. Numbering Roads\n",
    "7. Perfectly Pulsed Pulsars\n",
    "8. Big Number\n",
    "9. The MUS-OWT Problem\n",
    "10. PrimeBuzz"
   ]
  }
 ],
 "metadata": {},
 "nbformat": 4,
 "nbformat_minor": 1
}