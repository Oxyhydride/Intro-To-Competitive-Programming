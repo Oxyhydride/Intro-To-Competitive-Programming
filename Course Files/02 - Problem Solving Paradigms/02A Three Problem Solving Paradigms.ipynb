{
 "cells": [
  {
   "cell_type": "markdown",
   "metadata": {},
   "source": [
    "# 02 Problem Solving Paradigms\n",
    "## 02A Three Problem Solving Paradigms"
   ]
  },
  {
   "cell_type": "markdown",
   "metadata": {},
   "source": [
    "## Complete Search"
   ]
  },
  {
   "cell_type": "markdown",
   "metadata": {},
   "source": [
    "The complete search technique, also known as Brute Force, is a method of traversing the entire search space (or parts of it) to produce the required solution. During thr search, we are allowed to *prune* (that is, choose not to explore) certain parts of the search space if we determine that there is no solution in that part.\n",
    "\n",
    "In competitive programming contests, **complete search should be the last resort** if no other clearly-defined algorithm exists to solve the problem (e.g. listing all possible triplets of integers in a given range) or if better algorithms exist **but are overkill for a small input size** (e.g. finding the index of a given number in a list when the list's size is 10).\n",
    "\n",
    "In most contests, you will often need better problem-solving techniques as complete search is way too slow to solve the task. However, for certain *subtasks* (I.e. smaller portions of the full question), complete search can **allow you to score some points** even though it is inefficient.\n",
    "\n",
    "Now it is not true that complete search only works for *easy problems* and not for *hard problems* where a more efficient solution exists. Some hard problems do require complete search, albeit harder to see (e.g. Sieve of Eratosthenes uses complete search to find all prices in a given range, but does it efficiently)."
   ]
  },
  {
   "cell_type": "markdown",
   "metadata": {},
   "source": [
    "Let's look at a simple problem to illustrate the Complete Search paradigm.\n",
    "> List all possible triplets of integers such that all integers inside the triplets are between 1 and 4 inclusive.\n",
    "\n",
    "Clearly there is no better solution than to just list all possible triplets. Thus we can employ the Complete Search paradigm to this problem.\n",
    "\n",
    "The solution is as follows."
   ]
  },
  {
   "cell_type": "code",
   "execution_count": null,
   "metadata": {},
   "outputs": [],
   "source": [
    "for i in range(1, 5):\n",
    "    for j in range(1, 5):\n",
    "        for k in range(1, 5):\n",
    "            print(i, j, k)"
   ]
  },
  {
   "cell_type": "markdown",
   "metadata": {},
   "source": [
    "**Note**: A very useful Python library that helps you consider many of the menial tasks involved in complete search is the [`itertools`](https://docs.python.org/3/library/itertools.html) library. **Highly recommended to check it out.**"
   ]
  },
  {
   "cell_type": "markdown",
   "metadata": {},
   "source": [
    "## Divide and Conquer\n",
    "Divide and Conquer (or D&C) is another problem solving paradigm that is often asked in competitive programming contests. It involves splitting a *difficult* problem into smaller, *simpler* problems and then solving them (that is, *conquering* them). This involves:\n",
    "1. **Divide** the original problems into smaller, easier-to-handle subproblems. This usually involves dividing the original input into half or *nearly* half.\n",
    "2. Finding **(sub)-solutions** to these subproblems, which are now easier.\n",
    "3. If needed, **combine** sub-solutions together to form the solution to the main problem."
   ]
  },
  {
   "cell_type": "markdown",
   "metadata": {},
   "source": [
    "### Binary Search\n",
    "One of the most ubiquitous uses of the D&C paradigm is the Binary Search algorithm. To motivate our discussion on Binary Search, consider the following problem.\n",
    "\n",
    "> Find the 0-based index of an element in a **sorted** array of numbers, **where every number in the array is unique**. For example, in `[1, 2, 3, 5, 8, 13]`, the index of `8` is 4.\n",
    "\n",
    "Of course, a complete search algorithm that involves going through every element in the list and checking if the element equals the target element is possible, but is computationally inefficient given the problem. To put it into context, complete search on the list (which, in this case, is technically called **linear search**) takes $O(N)$ time, where $N$ is the size of the array. Binary Search is able to accomplish that same task in $O(\\log N)$ time."
   ]
  },
  {
   "cell_type": "markdown",
   "metadata": {},
   "source": [
    "The basic idea for Binary Search is as follows:\n",
    "1. Define a left pointer and a right pointer. Initially, `left = 0` and `right = N - 1`.\n",
    "2. Compute the **middle index**, `middle = floor(left + right / 2)`.\n",
    "3. Check the element at the middle index, $M$. If $M$ is the target element, output `middle`.\n",
    "4. Otherwise, check whether $M$ is larger than or smaller than the target element. We can do this because **the array is sorted**.\n",
    "    - If $M$ is larger, that means that the target element is **before** the middle index. Thus the target element is ***not*** on the right. We can thus reduce our search space by setting `right = middle`.\n",
    "    - In a similar argument, if $M$ is smaller, set `left = middle`.\n",
    "5. Repeat steps 2 to 4 until `left > right`.\n",
    "6. If nothing is output at this point then the element does not exist in the array."
   ]
  },
  {
   "cell_type": "markdown",
   "metadata": {},
   "source": [
    "This is what the algorithm looks like in Python."
   ]
  },
  {
   "cell_type": "code",
   "execution_count": null,
   "metadata": {},
   "outputs": [],
   "source": [
    "arr = [1, 3, 5, 7, 9, 11, 13, 15, 17, 19]  # Sorted array\n",
    "target = 5  # Element to find the index of\n",
    "\n",
    "# Define left and right pointers\n",
    "left = 0\n",
    "right = 10 - 1  # 10 elements, minus 1 for 0-based indexing\n",
    "\n",
    "# Repeat WHILE `left <= right`\n",
    "found = False\n",
    "\n",
    "while left <= right:\n",
    "    # Compute middle index\n",
    "    middle = (left + right) // 2\n",
    "\n",
    "    # Get middle value\n",
    "    val = arr[middle]\n",
    "\n",
    "    # Compare middle value with target\n",
    "    if val == target:\n",
    "        # We found it; output index\n",
    "        found = True\n",
    "        print(middle)\n",
    "        break\n",
    "\n",
    "    elif val < target:\n",
    "        # Target must be on the right\n",
    "        left = middle + 1  # We can technically do this because `middle` isn't our target\n",
    "\n",
    "    else:\n",
    "        # Target must be on the left\n",
    "        right = middle - 1\n",
    "\n",
    "# Check if found\n",
    "if not found:\n",
    "    print(\"Not found\")"
   ]
  },
  {
   "cell_type": "markdown",
   "metadata": {},
   "source": [
    "This canonical form of binary search is useful if the given input is sorted and there are many queries for the position for an element. Some inputs can be 'massaged' into the form required to perform binary search (and some tasks will explicitly tell you to do that)."
   ]
  },
  {
   "cell_type": "markdown",
   "metadata": {},
   "source": [
    "It cannot be repeated enough that binary search **can only be applied if the input array is strictly non-decreasing or strictly non-increasing**."
   ]
  },
  {
   "cell_type": "markdown",
   "metadata": {},
   "source": [
    "### Bisection Method"
   ]
  },
  {
   "cell_type": "markdown",
   "metadata": {},
   "source": [
    "The bisection method is similar to binary search, but is related to continuous functions."
   ]
  },
  {
   "cell_type": "markdown",
   "metadata": {},
   "source": [
    "Consider the following problem.\n",
    "> Find the solution to the equation $e^x - \\frac32 = x$ for $0 \\leq x \\leq 1$, correct to 4 decimal places.\n",
    "\n",
    "Using more complicated methods such as the Newton-Raphson method is overkill for this problem, so we consider the bisection method."
   ]
  },
  {
   "cell_type": "markdown",
   "metadata": {},
   "source": [
    "The bisection method can only be applied for functions (or equations) that are either **strictly increasing** or **strictly decreasing**. In the case of the above function, it is strictly increasing for $0 \\leq x \\leq 1$ so we can use this method."
   ]
  },
  {
   "cell_type": "markdown",
   "metadata": {},
   "source": [
    "The idea of bisection method is very similar to binary search. We show its implementation below."
   ]
  },
  {
   "cell_type": "code",
   "execution_count": null,
   "metadata": {},
   "outputs": [],
   "source": [
    "import math\n",
    "\n",
    "def function(x):\n",
    "    return math.exp(x) - 1.5 - x\n",
    "\n",
    "THRESHOLD = 1e-7  # How close do the two pointers have to be to stop?\n",
    "\n",
    "# Define left and right pointers\n",
    "left = 0  # Lower bound of x\n",
    "right = 1  # Upper bound of x\n",
    "\n",
    "while right - left >= THRESHOLD:\n",
    "    # Compute midpoint\n",
    "    middle = (left + right) / 2  # Don't floor divide - this is a continuous case\n",
    "\n",
    "    # Get middle value\n",
    "    val = function(middle)\n",
    "\n",
    "    # Determine how to move the pointers\n",
    "    if val > 0:\n",
    "        # Too high; move right pointer\n",
    "        right = middle\n",
    "    else:\n",
    "        # Too low; move left pointer\n",
    "        left = middle\n",
    "\n",
    "# Print middle value rounded to 4 decimal places\n",
    "print(round((left + right) / 2, 4))"
   ]
  },
  {
   "cell_type": "markdown",
   "metadata": {},
   "source": [
    "## Greedy"
   ]
  },
  {
   "cell_type": "markdown",
   "metadata": {},
   "source": [
    " An algorithm is said to be *greedy* if it makes the **locally** optimal choice with the hope of eventually achieving the **globally** optimal solution. In some cases, greedy works - the algorithm is short and efficient. *In many others, however, it does not*.\n",
    "\n",
    "Many computer science textbooks list these two properties that a problem must have in order for a greedy solution to work.\n",
    "1. It has optimal substructure.<br>Optimal solution to the problem contains optimal solutions to the sub-problems.\n",
    "2. It has the *greedy property* (**hard to do in time-constrainted contest environment!**)<br>If we make a choice that *seems like the best* at the moment and proceed to solve the remaining sub-problems, we will eventually reach the optimal solution. We will never have to reconsider our previous choices."
   ]
  },
  {
   "cell_type": "markdown",
   "metadata": {},
   "source": [
    "### Examples"
   ]
  },
  {
   "cell_type": "markdown",
   "metadata": {},
   "source": [
    "#### The Greedy Coin Change Problem"
   ]
  },
  {
   "cell_type": "markdown",
   "metadata": {},
   "source": [
    "Abridged problem statement: Given a target value $V$ cents and a list of denominations of $n$ coins, that is we have `coinValues[i]` (in cents) for indices `i` from 0 to $n-1$ inclusive, what is the minimum number of coins needed to represent the value $V$? Assume we have an **unlimited** supply of coins in each type. For example, if $V = 42$, $n = 4$ and `coinValues = [1, 5, 10, 25]`, the minimum number of coins needed is 5 (since 25 + 10 + 5 + 1 + 1 = 42)."
   ]
  },
  {
   "cell_type": "markdown",
   "metadata": {},
   "source": [
    "For this specific input, we can use the Greedy Algorithm to solve it - simply take the largest coin denomination that does not exceed the current amount:\n",
    "1. 42 - 25 = 17\n",
    "2. 17 - 10 = 7\n",
    "3. 7 - 5 = 2\n",
    "4. 2 - 1 = 1\n",
    "5. 1 - 1 = 0\n",
    "\n",
    "Thus we get the optimal solution of 5 coins."
   ]
  },
  {
   "cell_type": "markdown",
   "metadata": {},
   "source": [
    "Note that the Greedy Algorithm does **not** give the optimal solution to the general case of the Coin Change problem. Take for example, $V = 14$, $n = 3$ and `coinValues = [1, 7, 10]`. The Greedy Algorithm would conclude that the optimal number of coins needed is 5 (because 10 + 1 + 1 + 1 + 1 = 14) but the actual answer is 2 (because 7 + 7 = 14).\n",
    "\n",
    "The general solution to this problem will be revisited in Module 2B."
   ]
  },
  {
   "cell_type": "markdown",
   "metadata": {},
   "source": [
    "#### Maximising Inequality\n",
    "Problem statement: define the *inequality metric* between two numbers as the absolute difference between them. Find the maximum sum of inequality metrics in a list with an even number of integers. Note that each number can only be used **once** for an inequality metric calculation.\n",
    "\n",
    "For example, the maximum sum of inequality metrics of the list `[1, 2, 3, 4]` is 4 because (4 - 1) + (3 - 2) = 4. The maximum sum of inequality metrics of the list `[1, 4, 9, 16, 25, 36]` is 63 because (36 - 1) + (25 - 4) + (16 - 9) = 63."
   ]
  },
  {
   "cell_type": "markdown",
   "metadata": {},
   "source": [
    "One easily sees from the examples given above that a greedy solution is expected from this problem. It has the two conditions needed for a greedy solution to work:\n",
    "1. It has optimal substructure\n",
    "2. It has the greedy property\n",
    "\n",
    "Let's elaborate on point 2. One can observe that the maximum inequality metric achievable from a list is the difference between the largest element and the smallest element from the list.\n",
    "- For example, the maximum inequality metric of `[1, 5, 9, 13]` is 12 because 13 - 1 = 12.\n",
    "\n",
    "Now, once the current maximum and minimum elements are used, we can repeat this argument with the *next largest and smallest elements*.\n",
    "- For example, after using 1 and 13, the list becomes `[5, 9]` and the process can repeat.\n",
    "\n",
    "This quickly shows that the problem has the greedy property."
   ]
  },
  {
   "cell_type": "markdown",
   "metadata": {},
   "source": [
    "Once we have the greedy observation that we need, the solution is quite straightforward:"
   ]
  },
  {
   "cell_type": "code",
   "execution_count": null,
   "metadata": {},
   "outputs": [],
   "source": [
    "# INPUT\n",
    "array = [1, 36, 25, 4, 16, 9]  # At no point in the question did it say this list is sorted\n",
    "\n",
    "# PROCESSING\n",
    "# First sort the list\n",
    "array = sorted(array)\n",
    "\n",
    "# Now we can run our greedy solution\n",
    "total = 0\n",
    "for i in range(len(array)//2):\n",
    "    total += array[-i - 1] - array[i]  # Current maximum minus current minimum\n",
    "\n",
    "# OUTPUT\n",
    "print(total)"
   ]
  },
  {
   "cell_type": "markdown",
   "metadata": {},
   "source": [
    "## Remarks About the First Three Paradigms"
   ]
  },
  {
   "cell_type": "markdown",
   "metadata": {},
   "source": [
    "It is admittedly rare to see a *pure* complete search/D&C/Greedy in competitive programming competitions. *However, they may appear*.\n",
    "\n",
    "Although the examples discussed here are *relatively simple*, most competition problems are not.\n",
    "\n",
    "A complete search solution would almost never come out, due to the ease of solving that problem. A Greedy problem is also unlikely to appear, due to the numerous constraints on the input and on the problem itself. However, it is possible that D&C may appear in contests, albeit obfuscated.\n",
    "\n",
    "A favourite paradigm to ask by competition problem setters is the final paradigm not yet discussed. We will see it in Module 2B."
   ]
  },
  {
   "cell_type": "markdown",
   "metadata": {},
   "source": [
    "## Problems"
   ]
  },
  {
   "cell_type": "markdown",
   "metadata": {},
   "source": [
    "Here are some problems that involve the aforementioned problem solving paradigms. The problems are **arranged by difficulty** and not by the technique needed to solve them."
   ]
  },
  {
   "cell_type": "markdown",
   "metadata": {},
   "source": [
    "1. Lunchbox\n",
    "2. Lotto\n",
    "3. Reversed Binary Search\n",
    "4. Bars\n",
    "5. Where is the Marble?\n",
    "6. Social Distancing\n",
    "7. Solve It\n",
    "8. Simple Equations\n",
    "9. Coin Collector"
   ]
  }
 ],
 "metadata": {},
 "nbformat": 4,
 "nbformat_minor": 1
}