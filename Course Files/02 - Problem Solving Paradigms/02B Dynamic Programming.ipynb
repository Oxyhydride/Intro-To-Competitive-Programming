{
 "cells": [
  {
   "cell_type": "markdown",
   "metadata": {},
   "source": [
    "# 02 Problem Solving Paradigms\n",
    "## 02B Dynamic Programming"
   ]
  },
  {
   "cell_type": "markdown",
   "metadata": {},
   "source": [
    "## Foreword"
   ]
  },
  {
   "cell_type": "markdown",
   "metadata": {},
   "source": [
    "Dynamic Programming (henceforth abbreviated as DP) is perhaps the most challenging problem solving paradigm discussed in this section. Thus, *ensure you have mastered the techniques in Module 02A* and prepare for **a lot** of recursion and recurrance relations!"
   ]
  },
  {
   "cell_type": "markdown",
   "metadata": {},
   "source": [
    "The key skills you will need to develop in order to master DP is:\n",
    "1. The ability to identify and determine problem *states*\n",
    "2. The ability to determine the relationship(s) between the current problem and its subproblems (i.e. identify the *transition*)\n",
    "\n",
    "In fact, DP is often called 'recursion to the max' - it is a more efficient implementation of recursive techniques. While you are starting out with DP, you *should* use Top-Down DP (this will be explained later) and understand it as a sort-of 'intelligent' recursion."
   ]
  },
  {
   "cell_type": "markdown",
   "metadata": {},
   "source": [
    "DP is most often used to solve **optimisation problems** and **counting problems**. If you encounter a problem that says \"maximise this\" or \"minimise that\" or \"count the number of ways that so and so can happen\", it is *highly likely* that it is a DP problem.\n",
    "\n",
    "Most DP problems in contests ask for the optimal/Total *value* and not the optimal *solution* as this removes the need to recursively backtrack to find the actual solution. Harder DP problems, however, *may* ask for the optimal state."
   ]
  },
  {
   "cell_type": "markdown",
   "metadata": {},
   "source": [
    "## Precursor: Recurrance Relations"
   ]
  },
  {
   "cell_type": "markdown",
   "metadata": {},
   "source": [
    "Recurrance relations is a fancy mathematical term for \"how recurrance operations are related to each other\".\n",
    "\n",
    "Consider the Fibbonacci sequence:\n",
    "$$a_{n+2} = a_{n+1} + a_n$$\n",
    "with $a_1 = a_2 = 1$. This is an example of a recurrance relation, albeit a fairly *boring* one.\n",
    "\n",
    "Recurrance relations are useful in obtaining the next state of the DP solution. We cannot go into much detail in this section, but it should be said that it is *much more complex* than the relation shown above."
   ]
  },
  {
   "cell_type": "markdown",
   "metadata": {},
   "source": [
    "To practice recurrance relations, try out this problem (labelled problem 0 in the problem set):\n",
    "0. Domino Tiling"
   ]
  },
  {
   "cell_type": "markdown",
   "metadata": {},
   "source": [
    "## Conditions for DP to be Applied"
   ]
  },
  {
   "cell_type": "markdown",
   "metadata": {},
   "source": [
    "Just like the Greedy algorithm, a problem has to satisfy **two** conditions in order for a DP solution to work.\n",
    "1. It has optimal sub-structures.<br>The solution to a subproblem is part of the solution to the main problem.\n",
    "2. It has overlapping subproblems.<br>This is the **key characteristic** of DP! What this essentially means is that **we will need to access previous subproblems' solutions repeatedly** in the process of solving the main problem."
   ]
  },
  {
   "cell_type": "markdown",
   "metadata": {},
   "source": [
    "Now for DP we are interested in the number of **distinct** subproblems that we have to solve. This is the **number of DP _states_** as mentioned in the Foreword. Finding the way to relate these states with one another is finding the **transition**."
   ]
  },
  {
   "cell_type": "markdown",
   "metadata": {},
   "source": [
    "## The Classic Example: Coin Change"
   ]
  },
  {
   "cell_type": "markdown",
   "metadata": {},
   "source": [
    "Problem statement: Given a set of coins $S$ and a target amount $V$, find the minimum number of coins that are needed to form $V$. It is guarrenteed that it is possible to form $V$ using the coins in $S$. Assume we have an unlimited supply of coins, and a coin valued at 1 is always present in $S$."
   ]
  },
  {
   "cell_type": "markdown",
   "metadata": {},
   "source": [
    "Earlier we looked at the Greedy solution to this problem, but it does not work for all cases. We gave the example of $S = [1, 7, 10]$ and $V = 14$ to show that the Greedy solution was not optimal. **The DP solution, however, will guarrentee optimality.**"
   ]
  },
  {
   "cell_type": "markdown",
   "metadata": {},
   "source": [
    "Let's look at what we want to achieve in the end - minimum number of coins needed to achieve a certain value $V$. We note three things.\n",
    "1. To achieve a value $x$ we will never need to use a coin that valued more than $x$.\n",
    "    - This is quite obvious.\n",
    "2. To achieve a value $v$ we must come from a value $s$ where $s < v$.\n",
    "    - Again, this is quite obvious. It is simply impossible to achieve the value $v$ by coming from a higher value; there are no negative-valued coins!\n",
    "3. Optimal solution for achieving value $v$ means we have achieved optimal solution for value $s$, where $s < v$.\n",
    "    - This is less obvious. Suppose we do not achieve optimality in $s$. By point 2 we know we must have reached value $v$ from value $s$. However if $s$ is non-optimal there is **no way** that $v$ is optimal!\n",
    "\n",
    "Taking these three things together means that we have optimal substructure **and** overlapping subproblems - perfect for applying DP on!"
   ]
  },
  {
   "cell_type": "markdown",
   "metadata": {},
   "source": [
    "Now to analyse the problem's transition. *How do we get from a value $s$ to a value $v$?* Well, we choose one of the coins' values that are in $S$ and add it to $s$ to achieve a new value.\n",
    "\n",
    "Let's do this in reverse - to reach $v$ we must have added one of the coins inside the set $S$ from a smaller value. All we have to do is **consider every single possibility of a coin value from $S$** (say the coin value is $c$) and find the optimal solution to $v - c$.\n",
    "\n",
    "Now we know **one base case** for our recursion: making $0$ dollars takes 0 coins. With this base case, we are ready to write the **recursive solution**."
   ]
  },
  {
   "cell_type": "code",
   "execution_count": 1,
   "metadata": {},
   "outputs": [
    {
     "name": "stdout",
     "output_type": "stream",
     "text": [
      "2\n"
     ]
    }
   ],
   "source": [
    "# IMPORTS\n",
    "from math import inf  # Gets the placeholder value of infinity\n",
    "\n",
    "\n",
    "# FUNCTIONS\n",
    "def coin_change(value, possible_coins):\n",
    "    # Base case: value = 0 takes 0 coins\n",
    "    if value == 0:\n",
    "        return 0\n",
    "\n",
    "    # Otherwise, consider every possible coin and calculate the optimal solution from there\n",
    "    min_coins = inf\n",
    "\n",
    "    for coin in possible_coins:\n",
    "        # The value that we consider can't be negative, so check if subtracting that value of coin makes it\n",
    "        # too small\n",
    "        curr_val = value - coin\n",
    "        if curr_val >= 0:\n",
    "            # Get the optimal solution\n",
    "            min_coins = min(min_coins, coin_change(curr_val, possible_coins) + 1)  # Add this coin\n",
    "\n",
    "    # Return the minimum number of coins\n",
    "    return min_coins\n",
    "\n",
    "\n",
    "# MAIN CODE\n",
    "coins = [1, 7, 10]\n",
    "target = 14\n",
    "print(coin_change(target, coins))"
   ]
  },
  {
   "cell_type": "markdown",
   "metadata": {},
   "source": [
    "Note that this is **still not a DP solution**. There are a lot of redundancy in recalculating cases if we use pure recursion. To make it from a *recursive solution* into a *Top-Down DP solution*, we need to use ***memoisation***."
   ]
  },
  {
   "cell_type": "markdown",
   "metadata": {},
   "source": [
    "Memoisation is an optimization technique used primarily to speed up computer programs by **storing the results of function calls** and **returning the cached result** when the same inputs occur again. This reduces the number of computations."
   ]
  },
  {
   "cell_type": "markdown",
   "metadata": {},
   "source": [
    "With memoisation, we can implement a Top-Down DP solution. It is called \"Top-Down\" as we are starting with the *final state* (that is, the target value we want to find the optimal solution for) and working our way through the subproblems.\n",
    "\n",
    "A Top-Down DP solution for the coin change problem is provided below. Note the addition of a *global* dictionary `memo`, which stores the computed function calls."
   ]
  },
  {
   "cell_type": "code",
   "execution_count": 2,
   "metadata": {},
   "outputs": [
    {
     "name": "stdout",
     "output_type": "stream",
     "text": [
      "2\n"
     ]
    }
   ],
   "source": [
    "# DP FUNCTION\n",
    "def coin_change(target, coin_values, memo_dict):  # Note the new parameter\n",
    "    # 1. Base case(s)\n",
    "    if target == 0:\n",
    "        return 0  # We need 0 coins to form the value of 0\n",
    "\n",
    "    # 2. Check if we processed that state already\n",
    "    key = target\n",
    "    if key in memo_dict:  # We've computed this already\n",
    "        return memo_dict[key]\n",
    "\n",
    "    # 3. Process all possible cases\n",
    "    all_cases = []\n",
    "    for coin in coin_values:\n",
    "        curr_val = target - coin\n",
    "        if curr_val >= 0:\n",
    "            all_cases.append(coin_change(curr_val, coin_values, memo_dict) + 1)\n",
    "\n",
    "    # 4. Get the optimal solution\n",
    "    answer = min(all_cases)\n",
    "\n",
    "    # 5. Update the memoisation dictionary\n",
    "    memo_dict[key] = answer  # Using the same key as above\n",
    "\n",
    "    # 6. Return answer\n",
    "    return answer\n",
    "\n",
    "\n",
    "# MAIN CODE\n",
    "coins = [1, 7, 10]\n",
    "target = 14\n",
    "\n",
    "memo = {}  # Dictionary to store recursive function calls\n",
    "print(coin_change(target, coins, memo))"
   ]
  },
  {
   "cell_type": "markdown",
   "metadata": {},
   "source": [
    "We can now print the `memo` dictionary to see the computed values."
   ]
  },
  {
   "cell_type": "code",
   "execution_count": 3,
   "metadata": {},
   "outputs": [
    {
     "name": "stdout",
     "output_type": "stream",
     "text": [
      "{1: 1, 2: 2, 3: 3, 4: 4, 5: 5, 6: 6, 7: 1, 8: 2, 9: 3, 10: 1, 11: 2, 12: 3, 13: 4, 14: 2}\n"
     ]
    }
   ],
   "source": [
    "print(memo)"
   ]
  },
  {
   "cell_type": "markdown",
   "metadata": {},
   "source": [
    "Now the Top-Down DP is not the 'true form' of DP. The true form of DP is actually known as **tabulation**, or **Bottom-Up DP**."
   ]
  },
  {
   "cell_type": "markdown",
   "metadata": {},
   "source": [
    "## Bottom-Up DP"
   ]
  },
  {
   "cell_type": "markdown",
   "metadata": {},
   "source": [
    "Unlike the Top-Down DP solution which **requests the answers of subproblems as the algorithm requires them**, Bottom-Up DP **generates all possible states of the problem, starting from the base case**. This makes it more efficient than a Top-Down DP solution, as it is pure iteration rather than needing recursive calls."
   ]
  },
  {
   "cell_type": "markdown",
   "metadata": {},
   "source": [
    "The basic steps to construct a Bottom-Up DP solution are as follows.\n",
    "1. Determine the set of *parameters* that **uniquely describe the problem (i.e. the _state_)**. This is similar to defining the `key` in the Top-Down DP solution above - the `key` uniquely describes each state.\n",
    "2. If $N$ parameters are needed to describe the state, prepare an **$N$ dimensional array** representing the DP table, with one entry per state. This is similar to the `memo` dictionary in the above example, with one key difference: the `memo` dictionary is empty, but the DP array should be **initialised with the base case values**.\n",
    "3. Now with the base case cells filled, determine the states in the DP table that can be filled next (the transition). Repeat until the entire DP table is filled. For Bottom-Up DP, this is accomplished through the use of **loops**."
   ]
  },
  {
   "cell_type": "markdown",
   "metadata": {},
   "source": [
    "### Coin Change With Bottom-Up DP"
   ]
  },
  {
   "cell_type": "markdown",
   "metadata": {},
   "source": [
    "To solve the coin change problem more efficiently, we can consider a Bottom-Up DP solution in place of a Top-Down DP approach."
   ]
  },
  {
   "cell_type": "markdown",
   "metadata": {},
   "source": [
    "Since the only parameter that uniquely describes each state of the problem is the **target value**, we can define a 1-dimension DP table, where the index $i$ (0-based indexing) represents the **target value**."
   ]
  },
  {
   "cell_type": "markdown",
   "metadata": {},
   "source": [
    "The Bottom-Up DP solution is quite similar to the Top-Down DP solution."
   ]
  },
  {
   "cell_type": "code",
   "execution_count": 4,
   "metadata": {},
   "outputs": [
    {
     "name": "stdout",
     "output_type": "stream",
     "text": [
      "[0, 1, 2, 3, 4, 5, 6, 1, 2, 3, 1, 2, 3, 4, 2]\n",
      "2\n"
     ]
    }
   ],
   "source": [
    "# IMPORTS\n",
    "from math import inf\n",
    "\n",
    "# DP FUNCTION\n",
    "def coin_change(target, coin_values):\n",
    "    # Define the DP array\n",
    "    dp = [None] * (target + 1)  # Add 1 so that we can access the target's index\n",
    "\n",
    "    # Set base cases\n",
    "    dp[0] = 0  # It takes 0 coins to form the value of 0\n",
    "\n",
    "    # Iterate through the states\n",
    "    for val in range(1, target + 1):\n",
    "        # Process all possible cases\n",
    "        min_coins = inf\n",
    "\n",
    "        for coin in coin_values:\n",
    "            # Check if the previous state to consider is valid\n",
    "            prev_state = val - coin\n",
    "            if prev_state >= 0:\n",
    "                # Update the number of coins needed, as necessary\n",
    "                min_coins = min(min_coins, dp[prev_state] + 1)\n",
    "\n",
    "        # Update the current state in the DP array\n",
    "        dp[val] = min_coins\n",
    "\n",
    "    # Return the required state\n",
    "    print(dp)  # For debugging\n",
    "    return dp[target]\n",
    "\n",
    "\n",
    "# MAIN CODE\n",
    "coins = [1, 7, 10]\n",
    "target = 14\n",
    "print(coin_change(target, coins))"
   ]
  },
  {
   "cell_type": "markdown",
   "metadata": {},
   "source": [
    "## Comparing DP Styles"
   ]
  },
  {
   "cell_type": "markdown",
   "metadata": {},
   "source": [
    "For *most* DP problems, the two styles of DP (that is, Bottom-Up DP and Top-Down DP) are equally good and the decision to use a particular DP style is a matter of preference. However, for *harder* DP problems, one of the styles can be better than the other.\n",
    "\n",
    "The following is a list of pros and cons of each style of DP.\n",
    "\n",
    "|      | **Top-Down DP**                                                                                                                                                                                                                                                                              | **Bottom-Up DP**                                                                                                                                                                          |\n",
    "|------|:---------------------------------------------------------------------------------------------------------------------------------------------------------------------------------------------------------------------------------------------------------------------------------------------|:------------------------------------------------------------------------------------------------------------------------------------------------------------------------------------------|\n",
    "| Pros | 1. It is a natural transformation from a recursion solution<br><br>2. Completes the subproblems only when necessary (sometimes this is better)                                                                                                                                               | 1. Faster if many sub-problems are revisited as there is no overhead from recursive calls<br><br>2. Can save memory space                                                                 |\n",
    "| Cons | 1. Slower if many subproblems are revisited due to function call overhead <br>   <br>   (but this is not usually penalised in competitions)<br><br>2. If there are $M$ states, an $O(M)$ DP memoisation dictionary is needed, <br>   <br>   which may lead to `MLE` for some harder problems | 1. For programmers who are inclined to recursion, this style may not be intuitive<br><br>2. If there are $M$ states, Bottom-Up DP will visit and fill in the value of all of these states |"
   ]
  },
  {
   "cell_type": "markdown",
   "metadata": {},
   "source": [
    "## Another Classic Example: The 0-1 Knapsack Problem"
   ]
  },
  {
   "cell_type": "markdown",
   "metadata": {},
   "source": [
    "Here's another classic DP problem, known as the 0-1 knapsack problem. Given $n$ items, each with its own weight $W_i$ and value $V_i$, and a knapsack that can only hold up to $S$ in weight, what is the maximum value of the items inside the knapsack? Assume that we can only either take the item or ignore the item (hence the term 0-1 for either ignoring or taking)."
   ]
  },
  {
   "cell_type": "markdown",
   "metadata": {},
   "source": [
    "For example, $n=4$, $S=12$, $V = [100,70,50,10]$ and $W = [10,4,6,2]$.\n",
    "- If we select item 0 with weight 10 and value 100, we cannot take any other item. Not optimal.\n",
    "- If we select item 3 with weight 12 and value 10, we cannot take any other item. Not optimal.\n",
    "- If we select item 1 and 2, we have total weight 10 and total value 120. This is the maximum."
   ]
  },
  {
   "cell_type": "markdown",
   "metadata": {},
   "source": [
    "We can formulate the following recurrances regarding `val(id, remW)` which returns the optimal value, where `id` is the current item's index and `remW` is the remaining weight in the knapsack.\n",
    "1. `val(id, 0) = 0`. This is because if the remaining weight is 0, we cannot take anything else. Thus the optimal value is 0.\n",
    "2. `val(n, remW) = 0`. This is because the current item index is $n$, which means we have already considered all items. Thus the optimal value is 0.\n",
    "3. If `W[id] > remW`, then `val(id, remW) = val(id + 1, remW)`. This is because the current item is too heavy for us to consider. Thus we ignore the current item and move on to the next item.\n",
    "4. If `W[id] <= remW`, we have two choices: ignore the item or take the item.\n",
    "    - If we ignore the item the value we get is `val(id + 1, remW)` (since we are moving on to the next item)\n",
    "    - If we take the item the value we get is `V[id] + val(id + 1, remW - W[id])`. This is because taking the item adds that item's value to the current tally, but reduces the remaining weight available to us.\n",
    "   \n",
    "   Thus `val(id, remW)` is the **maximum** of these two values, i.e. `val(id, remW) = max(val(id + 1, remW), V[id] + val(id + 1, remW - W[id]))`.\n",
    "\n",
    "The answer to the problem can be found by calling `val(0, S)`."
   ]
  },
  {
   "cell_type": "markdown",
   "metadata": {},
   "source": [
    "Note the overlapping subproblems in the 0-1 knapsack problem. For example, after **taking** item 0 and **ignoring** item 1 and 2, we arrive at state `(3, 2)` (at the 3rd item (0-based indexing) and with 2 units of weight remaining). After **ignoring** item 0 and **taking** item 1 and 2, we arrive at the **same state** of `(3, 2)`. Although there are overlapping subproblems, there are only $O(nS)$ distinct states. We can compute each of these states in $O(1)$ time, and thus the overall time complexity of this solution is $O(nS)$."
   ]
  },
  {
   "cell_type": "markdown",
   "metadata": {},
   "source": [
    "The Python implementation of the above algorithm is provided below, under the function name `knapsack`."
   ]
  },
  {
   "cell_type": "code",
   "execution_count": 5,
   "metadata": {},
   "outputs": [
    {
     "name": "stdout",
     "output_type": "stream",
     "text": [
      "130\n"
     ]
    }
   ],
   "source": [
    "# DP FUNCTION\n",
    "def knapsack(item_index, remaining_weight, weights, values, memo_dict):\n",
    "    # 0. Define needed variables\n",
    "    n = len(weights)  # Number of items\n",
    "\n",
    "    # 1. Base Cases\n",
    "    if remaining_weight == 0:  # If we have no more weight to spare, we cannot take anything\n",
    "        return 0               # Hence the value of items in our basket is 0\n",
    "    \n",
    "    if item_index == n:  # We've reached the end of the list of items; we cannot consider any more items\n",
    "        return 0         # Hence the value of items in our basket is 0\n",
    "\n",
    "    if weights[item_index] > remaining_weight:  # The current item's weight is too much\n",
    "        # Consider the next item\n",
    "        return knapsack(item_index + 1, remaining_weight, weights, values, memo_dict)\n",
    "\n",
    "    # 2. Check if we already processed the state already\n",
    "    key = f\"{item_index} {remaining_weight}\"  # This uniquely defines this state\n",
    "    \n",
    "    if key in memo_dict:  # If already processed\n",
    "        return memo_dict[key]\n",
    "\n",
    "    # 3. Process all possible cases\n",
    "    # Option 1: We take this item\n",
    "    take_item_value = values[item_index] + knapsack(item_index + 1, remaining_weight - weights[item_index], \n",
    "                                                    weights, values, memo_dict)\n",
    "\n",
    "    # Option 2: We ignore this item\n",
    "    ignore_item_value = knapsack(item_index + 1, remaining_weight, weights, values, memo_dict)\n",
    "\n",
    "    # 4. Get optimal solution (Optimal solution achieved when value is maximal)\n",
    "    max_val = max(take_item_value, ignore_item_value)\n",
    "\n",
    "    # 5. Update the memoisation dictionary\n",
    "    memo[key] = max_val\n",
    "\n",
    "    # 6. Return the answer\n",
    "    return max_val\n",
    "\n",
    "\n",
    "# MAIN CODE\n",
    "values = [100, 70, 50, 10]\n",
    "weights = [10, 4, 6, 2]\n",
    "maxWeight = 12\n",
    "\n",
    "memo = {}  # Dictionary to store recursive function calls\n",
    "print(knapsack(0, maxWeight, weights, values, memo))"
   ]
  },
  {
   "cell_type": "markdown",
   "metadata": {},
   "source": [
    "We can now print the `memo` dictionary to see the computed values. Remember that, in the key, the first integer is the **item index** and the second integer is the **remaining weight**."
   ]
  },
  {
   "cell_type": "code",
   "execution_count": 6,
   "metadata": {},
   "outputs": [
    {
     "name": "stdout",
     "output_type": "stream",
     "text": [
      "{'3 2': 10, '3 8': 10, '2 8': 60, '3 6': 10, '3 12': 10, '2 12': 60, '1 12': 130, '0 12': 130}\n"
     ]
    }
   ],
   "source": [
    "print(memo)"
   ]
  },
  {
   "cell_type": "markdown",
   "metadata": {},
   "source": [
    "*Note*: The top-down version of this DP solution **is often faster** than the bottom-up version. This is because **not all states are actually visited** adnt hence the cirtical DP states involved are only a (vert small) subset of the entire state space. *Remember: top-down DP only visits __required states__ whereas bottom-up DP visits __all distinct states__*."
   ]
  },
  {
   "cell_type": "markdown",
   "metadata": {},
   "source": [
    "## Displaying the Optimal Solution"
   ]
  },
  {
   "cell_type": "markdown",
   "metadata": {},
   "source": [
    "Many DP problems require only the value of the optimal solution (such as the problems above). However many are caught off-guard when they are asked to **print the optimal solution**. We are aware of two ways of doing so."
   ]
  },
  {
   "cell_type": "markdown",
   "metadata": {},
   "source": [
    "The first way is mainly used in Bottom-Up DP solutions (but is still applicable to Top-Down DP solutions) where we store the predecessor information at every state. If there are more than 1 optimal predecessor and the question asks us to print **all** of the optimal solutions, we can store the optimal solutions in a list at every state. Once we have the optimal final state, we can do backtracking to recreate the optimal solution path."
   ]
  },
  {
   "cell_type": "markdown",
   "metadata": {},
   "source": [
    "The second way is mainly applicable to the Top-Down DP approach where we utilise recursion and backtracking to recreate the optimal solution. This can be done by making an *auxiliary function* that has the **same structure** as the original DP function but uses the `memo` table to reconstruct the optimal solution."
   ]
  },
  {
   "cell_type": "markdown",
   "metadata": {},
   "source": [
    "Reconstruction of the optimal solution for the **Coin Change** problem (using Bottom-Up DP solution) is given below."
   ]
  },
  {
   "cell_type": "code",
   "execution_count": 7,
   "metadata": {},
   "outputs": [
    {
     "name": "stdout",
     "output_type": "stream",
     "text": [
      "[(0, 0), (1, 0), (2, 1), (3, 2), (4, 3), (5, 4), (6, 5), (1, 0), (2, 7), (3, 8), (1, 0), (2, 10), (3, 11), (4, 12), (2, 7)]\n",
      "[7, 7]\n"
     ]
    }
   ],
   "source": [
    "# IMPORTS\n",
    "from math import inf\n",
    "\n",
    "# DP FUNCTION\n",
    "def coin_change_with_solution(target, coin_values):\n",
    "    # Define the DP array\n",
    "    dp = [None] * (target + 1)  # Add 1 so that we can access the target's index\n",
    "\n",
    "    # Set base cases\n",
    "    dp[0] = (0, 0)  # It takes 0 coins to form the value of 0, and this has no predecessor\n",
    "\n",
    "    # Iterate through the states\n",
    "    for val in range(1, target + 1):\n",
    "        # Process all possible cases\n",
    "        min_coins = inf\n",
    "        best_state = None\n",
    "\n",
    "        for coin in coin_values:\n",
    "            # Check if the previous state to consider is valid\n",
    "            prev_state = val - coin\n",
    "            if prev_state >= 0:\n",
    "                # Update the number of coins needed, as necessary\n",
    "                num_coins_needed = dp[prev_state][0] + 1  # Take the number of coins needed, not previous state\n",
    "                if min_coins > num_coins_needed:\n",
    "                    min_coins = num_coins_needed\n",
    "                    best_state = prev_state\n",
    "\n",
    "        # Update the current state in the DP array\n",
    "        dp[val] = (min_coins, best_state)  # Difference in current value and best state gives the coin used\n",
    "\n",
    "    # Generate the optimal solution\n",
    "    curr_index = target\n",
    "    optimal_solution = []\n",
    "\n",
    "    while curr_index != 0:\n",
    "        prev_index = dp[curr_index][1]  # Get the previous state's index\n",
    "        optimal_solution.append(curr_index - prev_index)  # This gives the coin used\n",
    "        curr_index = prev_index\n",
    "\n",
    "    # Return the optimal solution\n",
    "    print(dp)  # For debugging\n",
    "    return optimal_solution\n",
    "\n",
    "\n",
    "# MAIN CODE\n",
    "coins = [1, 7, 10]\n",
    "target = 14\n",
    "print(coin_change_with_solution(target, coins))"
   ]
  },
  {
   "cell_type": "markdown",
   "metadata": {},
   "source": [
    "Reconstruction of the optimal solution for the **0-1 Knapsack** Problem (using Top-Down DP solution) is given below."
   ]
  },
  {
   "cell_type": "code",
   "execution_count": 8,
   "metadata": {},
   "outputs": [
    {
     "name": "stdout",
     "output_type": "stream",
     "text": [
      "[1, 2, 3]\n"
     ]
    }
   ],
   "source": [
    "# DP FUNCTION\n",
    "def knapsack(item_index, remaining_weight, weights, values, memo_dict):\n",
    "    # 0. Define needed variables\n",
    "    n = len(weights)  # Number of items\n",
    "\n",
    "    # 1. Base Cases\n",
    "    if remaining_weight == 0:  # If we have no more weight to spare, we cannot take anything\n",
    "        return 0               # Hence the value of items in our basket is 0\n",
    "    \n",
    "    if item_index == n:  # We've reached the end of the list of items; we cannot consider any more items\n",
    "        return 0         # Hence the value of items in our basket is 0\n",
    "\n",
    "    if weights[item_index] > remaining_weight:  # The current item's weight is too much\n",
    "        # Consider the next item\n",
    "        return knapsack(item_index + 1, remaining_weight, weights, values, memo_dict)\n",
    "\n",
    "    # 2. Check if we already processed the state already\n",
    "    key = f\"{item_index} {remaining_weight}\"  # This uniquely defines this state\n",
    "    \n",
    "    if key in memo_dict:  # If already processed\n",
    "        return memo_dict[key]\n",
    "\n",
    "    # 3. Process all possible cases\n",
    "    # Option 1: We take this item\n",
    "    take_item_value = values[item_index] + knapsack(item_index + 1, remaining_weight - weights[item_index], \n",
    "                                                    weights, values, memo_dict)\n",
    "\n",
    "    # Option 2: We ignore this item\n",
    "    ignore_item_value = knapsack(item_index + 1, remaining_weight, weights, values, memo_dict)\n",
    "\n",
    "    # 4. Get optimal solution (Optimal solution achieved when value is maximal)\n",
    "    max_val = max(take_item_value, ignore_item_value)\n",
    "\n",
    "    # 5. Update the memoisation dictionary\n",
    "    memo[key] = max_val\n",
    "\n",
    "    # 6. Return the answer\n",
    "    return max_val\n",
    "\n",
    "\n",
    "def get_knapsack_solution(item_index, remaining_weight, weights, values, memo_dict, taken_items=[]):\n",
    "    # Define needed variables\n",
    "    n = len(weights)  # Number of items\n",
    "\n",
    "    # Base Cases\n",
    "    if remaining_weight == 0:  # If we have no more weight to spare, we cannot take anything\n",
    "        return taken_items     # Hence return the items that we have already taken\n",
    "    \n",
    "    if item_index == n:     # We've reached the end of the list of items; we cannot consider any more items\n",
    "        return taken_items  # Hence return the items that we have already taken\n",
    "\n",
    "    if weights[item_index] > remaining_weight:  # The current item's weight is too much\n",
    "        # Consider the next item\n",
    "        return get_knapsack_solution(item_index + 1, remaining_weight, weights, values, memo_dict, taken_items)\n",
    "    \n",
    "    # Check if the option to take is the optimal solution\n",
    "    key = f\"{item_index} {remaining_weight}\"  # This uniquely defines this state\n",
    "    take_item_value = values[item_index] + knapsack(item_index + 1, remaining_weight - weights[item_index], \n",
    "                                                    weights, values, memo_dict)\n",
    "    \n",
    "    if take_item_value == memo_dict[key]:\n",
    "        # We've taken the item; append to the list of taken items\n",
    "        taken_items.append(item_index)\n",
    "\n",
    "        # Proceed onto the next case\n",
    "        return get_knapsack_solution(item_index + 1, remaining_weight - weights[item_index], weights, values, \n",
    "                                     memo_dict, taken_items)\n",
    "    \n",
    "    # So we didn't take the item; move on to the next item then\n",
    "    return get_knapsack_solution(item_index + 1, remaining_weight, weights, values, memo_dict, taken_items)\n",
    "\n",
    "\n",
    "# MAIN CODE\n",
    "values = [100, 70, 50, 10]\n",
    "weights = [10, 4, 6, 2]\n",
    "maxWeight = 12\n",
    "\n",
    "memo = {}  # Dictionary to store recursive function calls\n",
    "knapsack(0, maxWeight, weights, values, memo)  # Must run the Top-Down DP at least once\n",
    "print(get_knapsack_solution(0, maxWeight, weights, values, memo))  # Now we can generate the solution"
   ]
  },
  {
   "cell_type": "markdown",
   "metadata": {},
   "source": [
    "However it should be noted that it is rare for a question to ask for the optimal solution. It is far more common for the question to only ask for the **value** of the optimal solution."
   ]
  },
  {
   "cell_type": "markdown",
   "metadata": {},
   "source": [
    "## Problems"
   ]
  },
  {
   "cell_type": "markdown",
   "metadata": {},
   "source": [
    "This is a long module, but there are not many problems associated with this module. *However, the problems are of higher difficulty* and may need more thinking and analysing to solve them. **This is expected of DP problems**. It is the hardest of the four problem-solving paradigms, after all."
   ]
  },
  {
   "cell_type": "markdown",
   "metadata": {},
   "source": [
    "0. Domino Tiling\n",
    "1. Maximal Rising Subsequence\n",
    "2. Bricks Game\n",
    "3. Knapsack\n",
    "4. Jill Rides Again"
   ]
  }
 ],
 "metadata": {},
 "nbformat": 4,
 "nbformat_minor": 1
}